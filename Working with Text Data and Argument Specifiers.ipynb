{
 "cells": [
  {
   "cell_type": "code",
   "execution_count": 1,
   "id": "939ddcc8",
   "metadata": {},
   "outputs": [
    {
     "name": "stdout",
     "output_type": "stream",
     "text": [
      "This item belongs to the product category \"A\"\n"
     ]
    }
   ],
   "source": [
    "product_category = 'A'\n",
    "print('This item belongs to the product category \"%s\"' % product_category)"
   ]
  },
  {
   "cell_type": "code",
   "execution_count": 2,
   "id": "c599cee0",
   "metadata": {},
   "outputs": [
    {
     "name": "stdout",
     "output_type": "stream",
     "text": [
      "This item belongs to the price category \"['A', 'B']\"\n"
     ]
    }
   ],
   "source": [
    "product_category = ['A', 'B']\n",
    "print('This item belongs to the price category \"%s\"' % product_category)"
   ]
  },
  {
   "cell_type": "code",
   "execution_count": 3,
   "id": "1cfebfd0",
   "metadata": {},
   "outputs": [
    {
     "name": "stdout",
     "output_type": "stream",
     "text": [
      "This item belongs to the price category \"A\"\n"
     ]
    }
   ],
   "source": [
    "price_category = ['A', 'B']\n",
    "print('This item belongs to the price category \"%s\"' % price_category[0])"
   ]
  },
  {
   "cell_type": "code",
   "execution_count": 4,
   "id": "b613e1df",
   "metadata": {},
   "outputs": [
    {
     "name": "stdout",
     "output_type": "stream",
     "text": [
      "This item belongs to the price category \"500\"\n"
     ]
    }
   ],
   "source": [
    "quantities = [500, 600]\n",
    "print('This item belongs to the price category \"%s\"' % quantities[0])\n",
    "# the %s is the combination of symbols that we use to indicate where we would like to insert not just a string, but also any\n",
    "# value or object that can have a string representation"
   ]
  },
  {
   "cell_type": "code",
   "execution_count": 5,
   "id": "b0095c94",
   "metadata": {},
   "outputs": [
    {
     "name": "stdout",
     "output_type": "stream",
     "text": [
      "We currently have 600 available units of this item\n"
     ]
    }
   ],
   "source": [
    "print('We currently have %d available units of this item' % quantities[1])\n",
    "# %d is more suitable for 'digits'"
   ]
  },
  {
   "cell_type": "code",
   "execution_count": 6,
   "id": "ae64d355",
   "metadata": {},
   "outputs": [
    {
     "name": "stdout",
     "output_type": "stream",
     "text": [
      "This stock costs $60.350000 per share\n"
     ]
    }
   ],
   "source": [
    "stock_shares_price_list = [40.50, 60.35]\n",
    "print('This stock costs $%f per share' % stock_shares_price_list[1])\n",
    "# we naturally have 6 decimal places because that's the default\n",
    "# %f is for floats "
   ]
  },
  {
   "cell_type": "code",
   "execution_count": 7,
   "id": "a68ed7b6",
   "metadata": {},
   "outputs": [
    {
     "name": "stdout",
     "output_type": "stream",
     "text": [
      "This stock costs $60 per share\n"
     ]
    }
   ],
   "source": [
    "stock_shares_price_list = [40.50, 60.35]\n",
    "print('This stock costs $%.f per share' % stock_shares_price_list[1])"
   ]
  },
  {
   "cell_type": "code",
   "execution_count": 8,
   "id": "3b73cd8e",
   "metadata": {},
   "outputs": [
    {
     "name": "stdout",
     "output_type": "stream",
     "text": [
      "This stock costs $60.4 per share\n"
     ]
    }
   ],
   "source": [
    "stock_shares_price_list = [40.50, 60.35]\n",
    "print('This stock costs $%.1f per share' % stock_shares_price_list[1])"
   ]
  },
  {
   "cell_type": "code",
   "execution_count": 9,
   "id": "379e2d0e",
   "metadata": {},
   "outputs": [
    {
     "name": "stdout",
     "output_type": "stream",
     "text": [
      "This stock costs $60.35 per share\n"
     ]
    }
   ],
   "source": [
    "stock_shares_price_list = [40.50, 60.35]\n",
    "print('This stock costs $%.2f per share' % stock_shares_price_list[1])"
   ]
  },
  {
   "cell_type": "code",
   "execution_count": 10,
   "id": "d395627c",
   "metadata": {},
   "outputs": [
    {
     "name": "stdout",
     "output_type": "stream",
     "text": [
      "Currently, we have 600 products of category \"B\"\n"
     ]
    }
   ],
   "source": [
    "i = 1\n",
    "print('Currently, we have %d products of category \"%s\"' % (quantities[i], product_category[i]))"
   ]
  },
  {
   "cell_type": "code",
   "execution_count": null,
   "id": "6e42d896",
   "metadata": {},
   "outputs": [],
   "source": []
  }
 ],
 "metadata": {
  "kernelspec": {
   "display_name": "Python 3 (ipykernel)",
   "language": "python",
   "name": "python3"
  },
  "language_info": {
   "codemirror_mode": {
    "name": "ipython",
    "version": 3
   },
   "file_extension": ".py",
   "mimetype": "text/x-python",
   "name": "python",
   "nbconvert_exporter": "python",
   "pygments_lexer": "ipython3",
   "version": "3.9.12"
  }
 },
 "nbformat": 4,
 "nbformat_minor": 5
}
